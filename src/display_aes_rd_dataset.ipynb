{
 "cells": [
  {
   "cell_type": "code",
   "execution_count": null,
   "id": "9f49ae89",
   "metadata": {},
   "outputs": [],
   "source": [
    "import numpy as np\n",
    "import matplotlib\n",
    "matplotlib.use('nbAgg')\n",
    "from matplotlib import pyplot as plt\n",
    "from tqdm import tqdm\n",
    "\n",
    "from datasets.aes_rd import AES_RD\n",
    "from leakage_detectors.non_learning import get_trace_means, get_sum_of_differences, get_signal_to_noise_ratio"
   ]
  },
  {
   "cell_type": "code",
   "execution_count": null,
   "id": "d01ddcad",
   "metadata": {
    "scrolled": true
   },
   "outputs": [],
   "source": [
    "dataset = AES_RD()\n",
    "print(dataset)"
   ]
  },
  {
   "cell_type": "code",
   "execution_count": null,
   "id": "0916e768",
   "metadata": {},
   "outputs": [],
   "source": [
    "fig, axes = plt.subplots(3, 5, figsize=(20, 12))\n",
    "for idx, ax in enumerate(axes.flatten()):\n",
    "    trace, _ = dataset[idx]\n",
    "    trace = trace.squeeze()\n",
    "    ax.plot(trace)\n",
    "plt.show()"
   ]
  },
  {
   "cell_type": "code",
   "execution_count": null,
   "id": "756aee68",
   "metadata": {},
   "outputs": [],
   "source": [
    "mean, var = np.zeros_like(trace), np.zeros_like(trace)\n",
    "for idx, (trace, _) in enumerate(tqdm(dataset)):\n",
    "    mean = (1/(idx+1))*trace.squeeze() + (idx/(idx+1))*mean\n",
    "for idx, (trace, _) in enumerate(tqdm(dataset)):\n",
    "    var = (1/(idx+1))*(trace.squeeze() - mean)**2 + (idx/(idx+1))*var\n",
    "stdev = np.sqrt(var)"
   ]
  },
  {
   "cell_type": "code",
   "execution_count": null,
   "id": "f3547332",
   "metadata": {},
   "outputs": [],
   "source": [
    "fig, axes = plt.subplots(1, 2, figsize=(12, 6))\n",
    "axes[0].plot(mean)\n",
    "axes[1].plot(stdev)\n",
    "axes[0].set_xlabel('Time')\n",
    "axes[0].set_ylabel('Mean')\n",
    "axes[1].set_xlabel('Time')\n",
    "axes[1].set_ylabel('Std. deviation')\n",
    "plt.show()"
   ]
  },
  {
   "cell_type": "code",
   "execution_count": null,
   "id": "f97657da",
   "metadata": {},
   "outputs": [],
   "source": [
    "trace_means = get_trace_means(dataset)\n",
    "sod_mask = get_sum_of_differences(dataset, trace_means=trace_means)\n",
    "snr_mask = get_signal_to_noise_ratio(dataset, trace_means=trace_means)"
   ]
  },
  {
   "cell_type": "code",
   "execution_count": null,
   "id": "3ab364e3",
   "metadata": {},
   "outputs": [],
   "source": [
    "fig, axes = plt.subplots(1, 2, figsize=(12, 6))\n",
    "axes[0].plot(sod_mask.squeeze())\n",
    "axes[1].plot(snr_mask.squeeze())\n",
    "plt.show()"
   ]
  },
  {
   "cell_type": "code",
   "execution_count": null,
   "id": "f8eb6eb4",
   "metadata": {},
   "outputs": [],
   "source": [
    "target_variables = ['subbytes']\n",
    "target_bytes = [0, 1, 2, 3, 4, 5, 6, 7, 8, 9, 10, 11, 12, 13, 14, 15]\n",
    "fig, axes = plt.subplots(len(target_bytes), len(target_variables), figsize=(4*len(target_variables), 4*len(target_bytes)))\n",
    "if len(target_bytes) == 1:\n",
    "    axes = axes[np.newaxis, ...]\n",
    "if len(target_variables) == 1:\n",
    "    axes = axes[..., np.newaxis]\n",
    "progress_bar = tqdm(total=len(target_bytes)*len(target_variables))\n",
    "\n",
    "for tb_idx, target_byte in enumerate(target_bytes):\n",
    "    axes_r = axes[tb_idx, :]\n",
    "    for tv_idx, target_variable in enumerate(target_variables):\n",
    "        dataset.select_target(variables=target_variable, bytes=target_byte)\n",
    "        ax = axes_r[tv_idx]\n",
    "        snr_mask = get_signal_to_noise_ratio(dataset)\n",
    "        ax.plot(snr_mask)\n",
    "        ax.set_title(f'{target_variable}(byte={target_byte})')\n",
    "        progress_bar.update(1)\n",
    "plt.show()"
   ]
  }
 ],
 "metadata": {
  "kernelspec": {
   "display_name": "Python 3 (ipykernel)",
   "language": "python",
   "name": "python3"
  },
  "language_info": {
   "codemirror_mode": {
    "name": "ipython",
    "version": 3
   },
   "file_extension": ".py",
   "mimetype": "text/x-python",
   "name": "python",
   "nbconvert_exporter": "python",
   "pygments_lexer": "ipython3",
   "version": "3.9.16"
  }
 },
 "nbformat": 4,
 "nbformat_minor": 5
}
