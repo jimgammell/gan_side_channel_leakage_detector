{
 "cells": [
  {
   "cell_type": "code",
   "execution_count": 1,
   "id": "33cd29e6",
   "metadata": {},
   "outputs": [],
   "source": [
    "import numpy as np\n",
    "import torch\n",
    "from models.multitask_cnn import XOR, MultitaskCNNClassifier\n",
    "\n",
    "xor_fn = XOR()"
   ]
  },
  {
   "cell_type": "code",
   "execution_count": 5,
   "id": "3a34b2f0",
   "metadata": {},
   "outputs": [
    {
     "name": "stdout",
     "output_type": "stream",
     "text": [
      "0xa3 XOR 0x6f = 0xcc\n",
      "0x57 XOR 0xe1 = 0xb6\n",
      "0xcb XOR 0xba = 0x71\n",
      "0x2f XOR 0x50 = 0x7f\n",
      "0xa6 XOR 0x84 = 0x22\n",
      "0x82 XOR 0x90 = 0x12\n",
      "0x66 XOR 0x6c = 0xa\n",
      "0x47 XOR 0x6b = 0x2c\n",
      "0x15 XOR 0xa2 = 0xb7\n",
      "0x4d XOR 0xe4 = 0xa9\n"
     ]
    }
   ],
   "source": [
    "for _ in range(10):\n",
    "    x_idx, y_idx = (np.random.randint(256) for _ in range(2))\n",
    "    x, y = (torch.zeros(1, 256, dtype=torch.float) for _ in range(2))\n",
    "    x[:, x_idx] = 1.0\n",
    "    y[:, y_idx] = 1.0\n",
    "    out = xor_fn(x, y)\n",
    "    print(f'{hex(x_idx)} XOR {hex(y_idx)} = {hex(out.argmax(dim=-1).item())}')"
   ]
  },
  {
   "cell_type": "code",
   "execution_count": 6,
   "id": "1daaa96d",
   "metadata": {},
   "outputs": [
    {
     "name": "stdout",
     "output_type": "stream",
     "text": [
      "MultitaskCNNClassifier(\n",
      "  (xor_fn): XOR()\n",
      "  (shared_feature_extractor): Sequential(\n",
      "    (0): Sequential(\n",
      "      (0): Conv1d(1, 16, kernel_size=(11,), stride=(4,), padding=(5,), bias=False)\n",
      "      (1): BatchNorm1d(16, eps=1e-05, momentum=0.1, affine=True, track_running_stats=True)\n",
      "      (2): SELU()\n",
      "    )\n",
      "    (1): Sequential(\n",
      "      (0): Conv1d(16, 32, kernel_size=(11,), stride=(4,), padding=(5,), bias=False)\n",
      "      (1): BatchNorm1d(32, eps=1e-05, momentum=0.1, affine=True, track_running_stats=True)\n",
      "      (2): SELU()\n",
      "    )\n",
      "    (2): Sequential(\n",
      "      (0): Conv1d(32, 64, kernel_size=(11,), stride=(4,), padding=(5,), bias=False)\n",
      "      (1): BatchNorm1d(64, eps=1e-05, momentum=0.1, affine=True, track_running_stats=True)\n",
      "      (2): SELU()\n",
      "    )\n",
      "  )\n",
      "  (split_feature_extractors): ModuleList(\n",
      "    (0-16): 17 x Sequential(\n",
      "      (0): Sequential(\n",
      "        (0): Conv1d(64, 256, kernel_size=(11,), stride=(4,), padding=(5,), bias=False)\n",
      "        (1): BatchNorm1d(256, eps=1e-05, momentum=0.1, affine=True, track_running_stats=True)\n",
      "        (2): SELU()\n",
      "      )\n",
      "    )\n",
      "  )\n",
      "  (split_mlps): ModuleList(\n",
      "    (0-16): 17 x Sequential(\n",
      "      (0): Linear(in_features=256, out_features=256, bias=True)\n",
      "      (1): SELU()\n",
      "      (2): Linear(in_features=256, out_features=256, bias=True)\n",
      "    )\n",
      "  )\n",
      ")\n",
      "torch.Size([16, 1, 10000]) -> torch.Size([16, 256, 16])\n"
     ]
    }
   ],
   "source": [
    "model = MultitaskCNNClassifier((1, 10000), 256)\n",
    "print(model)\n",
    "eg_x = torch.randn(16, 1, 10000)\n",
    "print(f'{eg_x.shape} -> {model(eg_x).shape}')"
   ]
  }
 ],
 "metadata": {
  "kernelspec": {
   "display_name": "Python 3 (ipykernel)",
   "language": "python",
   "name": "python3"
  },
  "language_info": {
   "codemirror_mode": {
    "name": "ipython",
    "version": 3
   },
   "file_extension": ".py",
   "mimetype": "text/x-python",
   "name": "python",
   "nbconvert_exporter": "python",
   "pygments_lexer": "ipython3",
   "version": "3.9.16"
  }
 },
 "nbformat": 4,
 "nbformat_minor": 5
}
