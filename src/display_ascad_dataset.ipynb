{
 "cells": [
  {
   "cell_type": "code",
   "execution_count": 1,
   "id": "3b5b365e",
   "metadata": {},
   "outputs": [
    {
     "name": "stderr",
     "output_type": "stream",
     "text": [
      "/home/min/a/jgammell/miniconda3/envs/sca-defense/lib/python3.9/site-packages/tqdm/auto.py:21: TqdmWarning: IProgress not found. Please update jupyter and ipywidgets. See https://ipywidgets.readthedocs.io/en/stable/user_install.html\n",
      "  from .autonotebook import tqdm as notebook_tqdm\n"
     ]
    }
   ],
   "source": [
    "from matplotlib import pyplot as plt\n",
    "import numpy as np\n",
    "from tqdm import tqdm\n",
    "import h5py\n",
    "import os\n",
    "\n",
    "from datasets import ASCADv1\n",
    "from leakage_detectors.non_learning import get_trace_means, get_sum_of_differences, get_signal_to_noise_ratio"
   ]
  },
  {
   "cell_type": "code",
   "execution_count": 2,
   "id": "ceb0226c",
   "metadata": {},
   "outputs": [
    {
     "name": "stdout",
     "output_type": "stream",
     "text": [
      "ASCADv1(\n",
      "\tresource_path=../resources/ascad_v1/ASCAD_data/ASCAD_databases/ASCAD.h5,\n",
      "\tstore_in_ram=True,\n",
      "\ttrain=True,\n",
      "\tdesync=0,\n",
      "\tdata_transform=None,\n",
      "\ttarget_transform=None\n",
      ")\n"
     ]
    }
   ],
   "source": [
    "dataset = ASCADv1(store_in_ram=True, use_full_traces=False)\n",
    "print(dataset)"
   ]
  },
  {
   "cell_type": "code",
   "execution_count": 3,
   "id": "c22e6dde",
   "metadata": {},
   "outputs": [
    {
     "name": "stdout",
     "output_type": "stream",
     "text": [
      "<KeysViewHDF5 ['metadata', 'traces']>\n",
      "(60000, 100000)\n",
      "(60000,)\n",
      "[('plaintext', 'u1', (16,)), ('ciphertext', 'u1', (16,)), ('key', 'u1', (16,)), ('masks', 'u1', (16,))]\n"
     ]
    }
   ],
   "source": [
    "resource_path = os.path.join('..', 'resources', 'ascad_v1', 'ASCAD_data', 'ASCAD_databases', 'ATMega8515_raw_traces.h5')\n",
    "with h5py.File(resource_path) as database_file:\n",
    "    print(database_file.keys())\n",
    "    print(database_file['traces'].shape)\n",
    "    print(database_file['metadata'].shape)\n",
    "    print(database_file['metadata'][0].dtype)"
   ]
  },
  {
   "cell_type": "code",
   "execution_count": 4,
   "id": "e0390591",
   "metadata": {},
   "outputs": [],
   "source": [
    "fig, axes = plt.subplots(3, 5, figsize=(20, 12))\n",
    "for idx, ax in enumerate(axes.flatten()):\n",
    "    trace, _ = dataset[idx]\n",
    "    trace = trace.squeeze()\n",
    "    ax.plot(trace)"
   ]
  },
  {
   "cell_type": "code",
   "execution_count": 5,
   "id": "0ce404ef",
   "metadata": {},
   "outputs": [
    {
     "name": "stderr",
     "output_type": "stream",
     "text": [
      "100%|████████████████████████████████████████████████████████████████████████████████████████████████████████████████████████████| 50000/50000 [00:00<00:00, 156606.96it/s]\n",
      "100%|████████████████████████████████████████████████████████████████████████████████████████████████████████████████████████████| 50000/50000 [00:00<00:00, 127344.24it/s]\n"
     ]
    }
   ],
   "source": [
    "mean, var = np.zeros_like(trace), np.zeros_like(trace)\n",
    "for idx, (trace, _) in enumerate(tqdm(dataset)):\n",
    "    mean = (1/(idx+1))*trace.squeeze() + (idx/(idx+1))*mean\n",
    "for idx, (trace, _) in enumerate(tqdm(dataset)):\n",
    "    var = (1/(idx+1))*(trace.squeeze() - mean)**2 + (idx/(idx+1))*var\n",
    "stdev = np.sqrt(var)"
   ]
  },
  {
   "cell_type": "code",
   "execution_count": 6,
   "id": "1c5803db",
   "metadata": {},
   "outputs": [
    {
     "data": {
      "text/plain": [
       "Text(0, 0.5, 'Std. deviation')"
      ]
     },
     "execution_count": 6,
     "metadata": {},
     "output_type": "execute_result"
    }
   ],
   "source": [
    "fig, axes = plt.subplots(1, 2, figsize=(12, 6))\n",
    "axes[0].plot(mean)\n",
    "axes[1].plot(stdev)\n",
    "axes[0].set_xlabel('Time')\n",
    "axes[0].set_ylabel('Mean')\n",
    "axes[1].set_xlabel('Time')\n",
    "axes[1].set_ylabel('Std. deviation')"
   ]
  },
  {
   "cell_type": "code",
   "execution_count": 7,
   "id": "ba8e42dd",
   "metadata": {},
   "outputs": [],
   "source": [
    "trace_means = get_trace_means(dataset)\n",
    "sod_mask = get_sum_of_differences(dataset, trace_means=trace_means)\n",
    "snr_mask = get_signal_to_noise_ratio(dataset, trace_means=trace_means)"
   ]
  },
  {
   "cell_type": "code",
   "execution_count": 8,
   "id": "3594476f",
   "metadata": {},
   "outputs": [
    {
     "data": {
      "text/plain": [
       "[<matplotlib.lines.Line2D at 0x7f5a01bd0100>]"
      ]
     },
     "execution_count": 8,
     "metadata": {},
     "output_type": "execute_result"
    }
   ],
   "source": [
    "fig, axes = plt.subplots(1, 2, figsize=(12, 6))\n",
    "axes[0].plot(sod_mask.squeeze())\n",
    "axes[1].plot(snr_mask.squeeze())"
   ]
  },
  {
   "cell_type": "code",
   "execution_count": 11,
   "id": "b5f6d73b",
   "metadata": {},
   "outputs": [
    {
     "name": "stderr",
     "output_type": "stream",
     "text": [
      "  0%|                                                                                                                                               | 0/10 [00:04<?, ?it/s]\n",
      "100%|██████████████████████████████████████████████████████████████████████████████████████████████████████████████████████████████████████| 10/10 [00:07<00:00,  1.40it/s]"
     ]
    }
   ],
   "source": [
    "target_variables = ['subbytes', 'masked_subbytes', 'r_out', 'r_in', 'r']\n",
    "target_bytes = [0, 2]\n",
    "fig, axes = plt.subplots(len(target_bytes), len(target_variables), figsize=(4*len(target_variables), 4*len(target_bytes)))\n",
    "progress_bar = tqdm(total=len(target_bytes)*len(target_variables))\n",
    "\n",
    "for tb_idx, target_byte in enumerate(target_bytes):\n",
    "    axes_r = axes[tb_idx, :]\n",
    "    for tv_idx, target_variable in enumerate(target_variables):\n",
    "        dataset.select_target(variables=target_variable, bytes=target_byte)\n",
    "        ax = axes_r[tv_idx]\n",
    "        snr_mask = get_signal_to_noise_ratio(dataset)\n",
    "        ax.plot(snr_mask)\n",
    "        ax.set_title(f'{target_variable}(byte={target_byte})')\n",
    "        progress_bar.update(1)"
   ]
  }
 ],
 "metadata": {
  "kernelspec": {
   "display_name": "Python 3 (ipykernel)",
   "language": "python",
   "name": "python3"
  },
  "language_info": {
   "codemirror_mode": {
    "name": "ipython",
    "version": 3
   },
   "file_extension": ".py",
   "mimetype": "text/x-python",
   "name": "python",
   "nbconvert_exporter": "python",
   "pygments_lexer": "ipython3",
   "version": "3.9.16"
  }
 },
 "nbformat": 4,
 "nbformat_minor": 5
}
