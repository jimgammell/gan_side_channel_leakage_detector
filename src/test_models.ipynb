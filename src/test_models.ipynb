{
 "cells": [
  {
   "cell_type": "code",
   "execution_count": 1,
   "id": "01eba14d",
   "metadata": {},
   "outputs": [],
   "source": [
    "import numpy as np\n",
    "import torch\n",
    "from models.multitask_cnn import SoftXOR, MultitaskCNNClassifier\n",
    "\n",
    "xor_fn = SoftXOR()"
   ]
  },
  {
   "cell_type": "code",
   "execution_count": 2,
   "id": "7193ef28",
   "metadata": {},
   "outputs": [
    {
     "name": "stdout",
     "output_type": "stream",
     "text": [
      "0x56 XOR 0x51 = 0x7\n",
      "0xfc XOR 0x99 = 0x65\n",
      "0x9a XOR 0x5d = 0xc7\n",
      "0xf2 XOR 0xc7 = 0x35\n",
      "0x3b XOR 0x8f = 0xb4\n",
      "0x8 XOR 0x38 = 0x30\n",
      "0x30 XOR 0x3 = 0x33\n",
      "0xd XOR 0xdf = 0xd2\n",
      "0x33 XOR 0x81 = 0xb2\n",
      "0xc0 XOR 0x5b = 0x9b\n"
     ]
    }
   ],
   "source": [
    "for _ in range(10):\n",
    "    x_idx, y_idx = (np.random.randint(256) for _ in range(2))\n",
    "    x, y = (torch.zeros(1, 256, dtype=torch.float) for _ in range(2))\n",
    "    x[:, x_idx] = 1.0\n",
    "    y[:, y_idx] = 1.0\n",
    "    out = xor_fn(x, y)\n",
    "    print(f'{hex(x_idx)} XOR {hex(y_idx)} = {hex(out.argmax(dim=-1).item())}')"
   ]
  },
  {
   "cell_type": "code",
   "execution_count": 5,
   "id": "d55d75db",
   "metadata": {},
   "outputs": [
    {
     "name": "stdout",
     "output_type": "stream",
     "text": [
      "MultitaskCNNClassifier(\n",
      "  (xor_fn): SoftXOR()\n",
      "  (shared_feature_extractor): Sequential(\n",
      "    (0): Sequential(\n",
      "      (0): Conv1d(1, 16, kernel_size=(11,), stride=(4,), padding=(5,), bias=False)\n",
      "      (1): BatchNorm1d(16, eps=1e-05, momentum=0.1, affine=True, track_running_stats=True)\n",
      "      (2): SELU()\n",
      "    )\n",
      "    (1): Sequential(\n",
      "      (0): Conv1d(16, 32, kernel_size=(11,), stride=(4,), padding=(5,), bias=False)\n",
      "      (1): BatchNorm1d(32, eps=1e-05, momentum=0.1, affine=True, track_running_stats=True)\n",
      "      (2): SELU()\n",
      "    )\n",
      "    (2): Sequential(\n",
      "      (0): Conv1d(32, 64, kernel_size=(11,), stride=(4,), padding=(5,), bias=False)\n",
      "      (1): BatchNorm1d(64, eps=1e-05, momentum=0.1, affine=True, track_running_stats=True)\n",
      "      (2): SELU()\n",
      "    )\n",
      "  )\n",
      "  (split_feature_extractors): ModuleList(\n",
      "    (0-16): 17 x Sequential(\n",
      "      (0): Sequential(\n",
      "        (0): Conv1d(64, 256, kernel_size=(11,), stride=(4,), padding=(5,), bias=False)\n",
      "        (1): BatchNorm1d(256, eps=1e-05, momentum=0.1, affine=True, track_running_stats=True)\n",
      "        (2): SELU()\n",
      "      )\n",
      "    )\n",
      "  )\n",
      "  (split_mlps): ModuleList(\n",
      "    (0-16): 17 x Sequential(\n",
      "      (0): Linear(in_features=256, out_features=256, bias=True)\n",
      "      (1): SELU()\n",
      "      (2): Linear(in_features=256, out_features=256, bias=True)\n",
      "    )\n",
      "  )\n",
      ")\n",
      "torch.Size([16, 1, 100000]) -> torch.Size([16, 256, 16])\n",
      "Parameter count: 5338000\n"
     ]
    }
   ],
   "source": [
    "model = MultitaskCNNClassifier((1, 100000), 256)\n",
    "print(model)\n",
    "eg_x = torch.randn(16, 1, 100000)\n",
    "print(f'{eg_x.shape} -> {model(eg_x).shape}')\n",
    "print(f'Parameter count: {sum(p.numel() for p in model.parameters())}')"
   ]
  }
 ],
 "metadata": {
  "kernelspec": {
   "display_name": "Python 3 (ipykernel)",
   "language": "python",
   "name": "python3"
  },
  "language_info": {
   "codemirror_mode": {
    "name": "ipython",
    "version": 3
   },
   "file_extension": ".py",
   "mimetype": "text/x-python",
   "name": "python",
   "nbconvert_exporter": "python",
   "pygments_lexer": "ipython3",
   "version": "3.9.16"
  }
 },
 "nbformat": 4,
 "nbformat_minor": 5
}
